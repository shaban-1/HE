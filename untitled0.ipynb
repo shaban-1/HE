{
  "nbformat": 4,
  "nbformat_minor": 0,
  "metadata": {
    "colab": {
      "provenance": [],
      "gpuType": "T4",
      "authorship_tag": "ABX9TyOJnpoRo65yn9mnoPYyR1WF",
      "include_colab_link": true
    },
    "kernelspec": {
      "name": "python3",
      "display_name": "Python 3"
    },
    "language_info": {
      "name": "python"
    },
    "accelerator": "GPU"
  },
  "cells": [
    {
      "cell_type": "markdown",
      "metadata": {
        "id": "view-in-github",
        "colab_type": "text"
      },
      "source": [
        "<a href=\"https://colab.research.google.com/github/shaban-1/HE/blob/main/untitled0.ipynb\" target=\"_parent\"><img src=\"https://colab.research.google.com/assets/colab-badge.svg\" alt=\"Open In Colab\"/></a>"
      ]
    },
    {
      "cell_type": "code",
      "execution_count": null,
      "metadata": {
        "id": "x25tIRgtuCcl",
        "colab": {
          "base_uri": "https://localhost:8080/"
        },
        "outputId": "cb12f160-f4c6-4c6c-e0de-5ccdf76d6e7c"
      },
      "outputs": [
        {
          "output_type": "stream",
          "name": "stdout",
          "text": [
            "Mounted at /content/drive\n"
          ]
        }
      ],
      "source": [
        "from google.colab import drive\n",
        "drive.mount('/content/drive')"
      ]
    },
    {
      "cell_type": "code",
      "source": [
        "!git clone https://github.com/shaban-1/HE.git\n",
        "%cd HE/HEP"
      ],
      "metadata": {
        "colab": {
          "base_uri": "https://localhost:8080/"
        },
        "id": "p2yqeL_zvibV",
        "outputId": "fe3f2874-c1be-46a8-9226-e4370e6c5507"
      },
      "execution_count": null,
      "outputs": [
        {
          "output_type": "stream",
          "name": "stdout",
          "text": [
            "Cloning into 'HE'...\n",
            "remote: Enumerating objects: 77, done.\u001b[K\n",
            "remote: Counting objects: 100% (77/77), done.\u001b[K\n",
            "remote: Compressing objects: 100% (67/67), done.\u001b[K\n",
            "remote: Total 77 (delta 6), reused 77 (delta 6), pack-reused 0 (from 0)\u001b[K\n",
            "Receiving objects: 100% (77/77), 29.79 MiB | 16.34 MiB/s, done.\n",
            "Resolving deltas: 100% (6/6), done.\n",
            "[Errno 2] No such file or directory: 'HEP'\n",
            "/content\n"
          ]
        }
      ]
    },
    {
      "cell_type": "code",
      "source": [
        "!python Ckeck_for_clahe.py --light_config configs/unit_LUM.yaml --output_path ./light\n"
      ],
      "metadata": {
        "colab": {
          "base_uri": "https://localhost:8080/"
        },
        "id": "dRFtEt-wHaji",
        "outputId": "105af744-3b26-4c84-bd2f-2efec889606b"
      },
      "execution_count": null,
      "outputs": [
        {
          "output_type": "stream",
          "name": "stdout",
          "text": [
            "Чекпоинт найден. Будет выполнена LUM-инференция.\n",
            "Сравнение с ground truth:\n",
            "/content/HE/HEP/Ckeck_for_clahe.py:20: FutureWarning: You are using `torch.load` with `weights_only=False` (the current default value), which uses the default pickle module implicitly. It is possible to construct malicious pickle data which will execute arbitrary code during unpickling (See https://github.com/pytorch/pytorch/blob/main/SECURITY.md#untrusted-models for more details). In a future release, the default value for `weights_only` will be flipped to `True`. This limits the functions that could be executed during unpickling. Arbitrary objects will no longer be allowed to be loaded via this mode unless they are explicitly allowlisted by the user via `torch.serialization.add_safe_globals`. We recommend you start setting `weights_only=True` for any use case where you don't have full control of the loaded file. Please open an issue on GitHub for any issues related to this experimental feature.\n",
            "  state_dict = torch.load(checkpoint_path, map_location=device, weights_only=True) if hasattr(torch.load, 'weights_only') else torch.load(checkpoint_path, map_location=device)\n",
            "Метод LUM:   время = 0.2262 сек, PSNR = 7.30, SSIM = 0.2539\n",
            "Метод CLAHE: время = 0.1548 сек, PSNR = 23.08, SSIM = 0.7596\n"
          ]
        }
      ]
    },
    {
      "cell_type": "code",
      "source": [
        "!python LUM_test.py --LUM_config configs/unit_LUM.yaml --input_folder ./test_images --output_folder ./result_images --LUM_checkpoint ./LUM_checkpoint/LUM_LOL.pth\n"
      ],
      "metadata": {
        "colab": {
          "base_uri": "https://localhost:8080/"
        },
        "id": "UneLcxYqHdA3",
        "outputId": "b6659100-d69c-4160-f23f-dc1e89079033"
      },
      "execution_count": null,
      "outputs": [
        {
          "output_type": "stream",
          "name": "stdout",
          "text": [
            "Копия Копия 55[1].png\n",
            "Копия Копия 1[1].png\n",
            "Копия Копия 23[1].png\n",
            "Копия Копия 780[1].png\n",
            "Копия Копия 748[1].png\n",
            "Копия Копия 79[1].png\n",
            "Копия Копия 547[1].png\n",
            "Копия Копия 493[1].png\n",
            "Копия Копия 22[1].png\n",
            "Копия Копия 778[1].png\n",
            "Копия Копия 179[1].png\n",
            "Копия Копия 146[1].png\n",
            "Копия Копия 665[1].png\n",
            "Копия Копия 111[1].png\n",
            "Копия Копия 748[1](1).png\n"
          ]
        }
      ]
    },
    {
      "cell_type": "code",
      "source": [
        "%cp -r ../LOL_dataset/test_gt/* test_images/\n",
        "\n"
      ],
      "metadata": {
        "id": "VNcElDat5PLq"
      },
      "execution_count": null,
      "outputs": []
    }
  ]
}