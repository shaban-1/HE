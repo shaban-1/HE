{
  "nbformat": 4,
  "nbformat_minor": 0,
  "metadata": {
    "colab": {
      "provenance": [],
      "gpuType": "T4",
      "authorship_tag": "ABX9TyMgKrr0mq80jLkvor8OygST",
      "include_colab_link": true
    },
    "kernelspec": {
      "name": "python3",
      "display_name": "Python 3"
    },
    "language_info": {
      "name": "python"
    },
    "accelerator": "GPU"
  },
  "cells": [
    {
      "cell_type": "markdown",
      "metadata": {
        "id": "view-in-github",
        "colab_type": "text"
      },
      "source": [
        "<a href=\"https://colab.research.google.com/github/shaban-1/HE/blob/main/Untitled1.ipynb\" target=\"_parent\"><img src=\"https://colab.research.google.com/assets/colab-badge.svg\" alt=\"Open In Colab\"/></a>"
      ]
    },
    {
      "cell_type": "code",
      "execution_count": null,
      "metadata": {
        "id": "x25tIRgtuCcl",
        "colab": {
          "base_uri": "https://localhost:8080/"
        },
        "outputId": "cb12f160-f4c6-4c6c-e0de-5ccdf76d6e7c"
      },
      "outputs": [
        {
          "output_type": "stream",
          "name": "stdout",
          "text": [
            "Mounted at /content/drive\n"
          ]
        }
      ],
      "source": [
        "from google.colab import drive\n",
        "drive.mount('/content/drive')"
      ]
    },
    {
      "cell_type": "code",
      "source": [
        "!git clone https://github.com/shaban-1/HE.git\n",
        "%cd HE/HEP/"
      ],
      "metadata": {
        "colab": {
          "base_uri": "https://localhost:8080/"
        },
        "id": "p2yqeL_zvibV",
        "outputId": "fe3f2874-c1be-46a8-9226-e4370e6c5507"
      },
      "execution_count": null,
      "outputs": [
        {
          "output_type": "stream",
          "name": "stdout",
          "text": [
            "Cloning into 'HE'...\n",
            "remote: Enumerating objects: 77, done.\u001b[K\n",
            "remote: Counting objects: 100% (77/77), done.\u001b[K\n",
            "remote: Compressing objects: 100% (67/67), done.\u001b[K\n",
            "remote: Total 77 (delta 6), reused 77 (delta 6), pack-reused 0 (from 0)\u001b[K\n",
            "Receiving objects: 100% (77/77), 29.79 MiB | 16.34 MiB/s, done.\n",
            "Resolving deltas: 100% (6/6), done.\n",
            "[Errno 2] No such file or directory: 'HEP'\n",
            "/content\n"
          ]
        }
      ]
    },
    {
      "cell_type": "code",
      "source": [
        "%cd ../../\n",
        "!python HE/HEP/LUM_train.py --light_config HE/HEP/configs/unit_LUM.yaml --output_path HE/HEP/./light\n"
      ],
      "metadata": {
        "colab": {
          "base_uri": "https://localhost:8080/"
        },
        "id": "dRFtEt-wHaji",
        "outputId": "99fed873-450e-4cd3-ebab-02b870390edd"
      },
      "execution_count": 45,
      "outputs": [
        {
          "output_type": "stream",
          "name": "stdout",
          "text": [
            "/content\n",
            "start training\n",
            "/usr/local/lib/python3.11/dist-packages/torchvision/models/_utils.py:208: UserWarning: The parameter 'pretrained' is deprecated since 0.13 and may be removed in the future, please use 'weights' instead.\n",
            "  warnings.warn(\n",
            "/usr/local/lib/python3.11/dist-packages/torchvision/models/_utils.py:223: UserWarning: Arguments other than a weight enum or `None` for 'weights' are deprecated since 0.13 and may be removed in the future. The current behavior is equivalent to passing `weights=VGG19_Weights.IMAGENET1K_V1`. You can also use `weights=VGG19_Weights.DEFAULT` to get the most up-to-date weights.\n",
            "  warnings.warn(msg)\n",
            "[*] Number of training data: 15\n",
            "/usr/local/lib/python3.11/dist-packages/torch/optim/lr_scheduler.py:224: UserWarning: Detected call of `lr_scheduler.step()` before `optimizer.step()`. In PyTorch 1.1.0 and later, you should call them in the opposite order: `optimizer.step()` before `lr_scheduler.step()`.  Failure to do this will result in PyTorch skipping the first value of the learning rate schedule. See more details at https://pytorch.org/docs/stable/optim.html#how-to-adjust-learning-rate\n",
            "  warnings.warn(\n",
            "/usr/local/lib/python3.11/dist-packages/torch/utils/data/dataloader.py:617: UserWarning: This DataLoader will create 5 worker processes in total. Our suggested max number of worker in current system is 2, which is smaller than what this DataLoader is going to create. Please be aware that excessive worker creation might get DataLoader running slow or even freeze, lower the worker number to avoid potential slowness/freeze if necessary.\n",
            "  warnings.warn(\n",
            "[*] Evaluating for phase train / epoch 20...\n",
            "===> Iteration[20]: psnr: 7.190186900335669, ssim:0.1898151013322201\n",
            "/usr/local/lib/python3.11/dist-packages/torch/utils/data/dataloader.py:617: UserWarning: This DataLoader will create 5 worker processes in total. Our suggested max number of worker in current system is 2, which is smaller than what this DataLoader is going to create. Please be aware that excessive worker creation might get DataLoader running slow or even freeze, lower the worker number to avoid potential slowness/freeze if necessary.\n",
            "  warnings.warn(\n",
            "[*] Evaluating for phase train / epoch 40...\n",
            "===> Iteration[40]: psnr: 7.190186900335671, ssim:0.1898151013322201\n",
            "[*] Evaluating for phase train / epoch 60...\n",
            "===> Iteration[60]: psnr: 7.19018690033567, ssim:0.18981510133222013\n",
            "[*] Evaluating for phase train / epoch 80...\n",
            "===> Iteration[80]: psnr: 7.190186900335671, ssim:0.18981510133222013\n",
            "[*] Evaluating for phase train / epoch 100...\n",
            "===> Iteration[100]: psnr: 7.190186900335671, ssim:0.18981510133222013\n"
          ]
        }
      ]
    },
    {
      "cell_type": "code",
      "source": [
        "!python LUM_test.py --LUM_config configs/unit_LUM.yaml --input_folder ./test_images --output_folder ./result_images --LUM_checkpoint ./LUM_checkpoint/LUM_LOL.pth\n"
      ],
      "metadata": {
        "colab": {
          "base_uri": "https://localhost:8080/"
        },
        "id": "UneLcxYqHdA3",
        "outputId": "b6659100-d69c-4160-f23f-dc1e89079033"
      },
      "execution_count": 29,
      "outputs": [
        {
          "output_type": "stream",
          "name": "stdout",
          "text": [
            "Копия Копия 55[1].png\n",
            "Копия Копия 1[1].png\n",
            "Копия Копия 23[1].png\n",
            "Копия Копия 780[1].png\n",
            "Копия Копия 748[1].png\n",
            "Копия Копия 79[1].png\n",
            "Копия Копия 547[1].png\n",
            "Копия Копия 493[1].png\n",
            "Копия Копия 22[1].png\n",
            "Копия Копия 778[1].png\n",
            "Копия Копия 179[1].png\n",
            "Копия Копия 146[1].png\n",
            "Копия Копия 665[1].png\n",
            "Копия Копия 111[1].png\n",
            "Копия Копия 748[1](1).png\n"
          ]
        }
      ]
    },
    {
      "cell_type": "code",
      "source": [
        "%cp -r ../LOL_dataset/test_gt/* test_images/\n",
        "\n"
      ],
      "metadata": {
        "id": "VNcElDat5PLq"
      },
      "execution_count": 27,
      "outputs": []
    }
  ]
}